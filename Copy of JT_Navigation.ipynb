{
 "cells": [
  {
   "cell_type": "code",
   "execution_count": 1,
   "source": [
    "import random\r\n",
    "import torch\r\n",
    "import numpy as np\r\n",
    "import pandas as pd\r\n",
    "from collections import deque\r\n",
    "import matplotlib.pyplot as plt\r\n",
    "%matplotlib inline\r\n",
    "from dqn_agent import Agent\r\n",
    "from unityagents import UnityEnvironment"
   ],
   "outputs": [],
   "metadata": {}
  },
  {
   "cell_type": "code",
   "execution_count": null,
   "source": [
    "env = UnityEnvironment(file_name=\"Banana_windows_x86_64/Banana.exe\")\r\n",
    "brain_name = env.brain_names[0]\r\n",
    "brain = env.brains[brain_name]\r\n",
    "brain"
   ],
   "outputs": [],
   "metadata": {}
  },
  {
   "cell_type": "code",
   "execution_count": null,
   "source": [
    "agent = Agent(state_size=37, action_size=4, seed=0)"
   ],
   "outputs": [],
   "metadata": {}
  },
  {
   "cell_type": "code",
   "execution_count": null,
   "source": [
    "env_info = env.reset(train_mode=True)[brain_name] "
   ],
   "outputs": [],
   "metadata": {}
  },
  {
   "cell_type": "code",
   "execution_count": null,
   "source": [
    "state = env_info.vector_observations[0]  \r\n",
    "print('States look like:', state)"
   ],
   "outputs": [],
   "metadata": {}
  },
  {
   "cell_type": "code",
   "execution_count": null,
   "source": [
    "action = agent.act(state, .99)\r\n",
    "print(action)"
   ],
   "outputs": [],
   "metadata": {}
  },
  {
   "cell_type": "code",
   "execution_count": null,
   "source": [
    "print(action)\r\n",
    "env_info = env.step(int(action))[brain_name]\r\n",
    "next_state = env_info.vector_observations[0]   # get the next state\r\n",
    "reward = env_info.rewards[0]                   # get the reward\r\n",
    "done = env_info.local_done[0]\r\n",
    "print('next state: ', next_state)\r\n",
    "print('reward: ', reward)\r\n",
    "print('done: ', done)"
   ],
   "outputs": [],
   "metadata": {}
  },
  {
   "cell_type": "code",
   "execution_count": null,
   "source": [
    "state = next_state"
   ],
   "outputs": [],
   "metadata": {}
  },
  {
   "cell_type": "code",
   "execution_count": null,
   "source": [
    "env.close()"
   ],
   "outputs": [],
   "metadata": {}
  },
  {
   "cell_type": "code",
   "execution_count": 2,
   "source": [
    "def dqn(n_episodes=1000, max_t=1000, eps_start=1.0, eps_end=0.01, eps_decay=0.995):\r\n",
    "    \"\"\"Deep Q-Learning.\r\n",
    "    \r\n",
    "    Params\r\n",
    "    ======\r\n",
    "        n_episodes (int): maximum number of training episodes\r\n",
    "        max_t (int): maximum number of timesteps per episode\r\n",
    "        eps_start (float): starting value of epsilon, for epsilon-greedy action selection\r\n",
    "        eps_end (float): minimum value of epsilon\r\n",
    "        eps_decay (float): multiplicative factor (per episode) for decreasing epsilon\r\n",
    "    \"\"\"\r\n",
    "    env = UnityEnvironment(file_name=\"Banana_windows_x86_64/Banana.exe\")\r\n",
    "    brain_name = env.brain_names[0]\r\n",
    "    brain = env.brains[brain_name]\r\n",
    "    agent = Agent(state_size=37, action_size=4, seed=0)\r\n",
    "\r\n",
    "    scores = []                        # list containing scores from each episode\r\n",
    "    scores_window = deque(maxlen=100)  # last 100 scores\r\n",
    "    eps = eps_start                    # initialize epsilon\r\n",
    "    for i_episode in range(1, n_episodes+1):\r\n",
    "        env_info = env.reset(train_mode=True)[brain_name]  # reset the environment\r\n",
    "        state = env_info.vector_observations[0]            # get the current state\r\n",
    "        score = 0\r\n",
    "        for t in range(max_t):\r\n",
    "            action = agent.act(state, eps)              # select an action\r\n",
    "            env_info = env.step(int(action))[brain_name]        # send the action to the environment\r\n",
    "            next_state = env_info.vector_observations[0]   # get the next state\r\n",
    "            reward = env_info.rewards[0]                   # get the reward\r\n",
    "            done = env_info.local_done[0]                  # see if episode has finished\r\n",
    "            agent.step(state, action, reward, next_state, done)\r\n",
    "            score += reward                                # update the score\r\n",
    "            state = next_state                             # roll over the state to next time step            \r\n",
    "            if done:\r\n",
    "                break \r\n",
    "        scores_window.append(score)       # save most recent score\r\n",
    "        scores.append(score)              # save most recent score\r\n",
    "        eps = max(eps_end, eps_decay*eps) # decrease epsilon\r\n",
    "        print('\\rEpisode {0:5d}\\tAverage Score: {1:5.2f}\\tt: {2:5d}'.format(i_episode, np.mean(scores_window), t), end=\"\")\r\n",
    "        if i_episode % 100 == 0:\r\n",
    "            print('\\rEpisode {:5d}\\tAverage Score: {:5.2f}\\t           '.format(i_episode, np.mean(scores_window)))\r\n",
    "        if np.mean(scores_window)>=13.0:\r\n",
    "            print('\\nEnvironment solved in {:5d} episodes!\\tAverage Score: {:5.2f}'.format(i_episode-100, np.mean(scores_window)))\r\n",
    "            torch.save(agent.qnetwork_local.state_dict(), 'checkpoint.pth')\r\n",
    "            break\r\n",
    "    env.close()\r\n",
    "    return scores"
   ],
   "outputs": [],
   "metadata": {}
  },
  {
   "cell_type": "code",
   "execution_count": 3,
   "source": [
    "scores = dqn(n_episodes=1000, max_t=300)\r\n",
    "\r\n",
    "# plot the scores\r\n",
    "fig = plt.figure()\r\n",
    "ax = fig.add_subplot(111)\r\n",
    "plt.plot(np.arange(len(scores)), scores)\r\n",
    "plt.ylabel('Score')\r\n",
    "plt.xlabel('Episode #')\r\n",
    "rolling_mean = pd.Series(scores).rolling(10).mean()\r\n",
    "plt.plot(rolling_mean);\r\n",
    "plt.show()"
   ],
   "outputs": [
    {
     "output_type": "stream",
     "name": "stderr",
     "text": [
      "INFO:unityagents:\n",
      "'Academy' started successfully!\n",
      "Unity Academy name: Academy\n",
      "        Number of Brains: 1\n",
      "        Number of External Brains : 1\n",
      "        Lesson number : 0\n",
      "        Reset Parameters :\n",
      "\t\t\n",
      "Unity brain name: BananaBrain\n",
      "        Number of Visual Observations (per agent): 0\n",
      "        Vector Observation space type: continuous\n",
      "        Vector Observation space size (per agent): 37\n",
      "        Number of stacked Vector Observation: 1\n",
      "        Vector Action space type: discrete\n",
      "        Vector Action space size (per agent): 4\n",
      "        Vector Action descriptions: , , , \n"
     ]
    },
    {
     "output_type": "stream",
     "name": "stdout",
     "text": [
      "Episode   100\tAverage Score:  0.56\t           \n",
      "Episode   200\tAverage Score:  1.93\t           \n",
      "Episode   300\tAverage Score:  5.43\t           \n",
      "Episode   400\tAverage Score:  8.95\t           \n",
      "Episode   500\tAverage Score: 12.28\t           \n",
      "Episode   542\tAverage Score: 13.01\tt:   299\n",
      "Environment solved in   442 episodes!\tAverage Score: 13.01\n"
     ]
    },
    {
     "output_type": "display_data",
     "data": {
      "image/png": "[encoded data removed]",
      "text/plain": [
       "<Figure size 432x288 with 1 Axes>"
      ]
     },
     "metadata": {
      "needs_background": "light"
     }
    }
   ],
   "metadata": {}
  }
 ],
 "metadata": {
  "orig_nbformat": 4,
  "language_info": {
   "name": "python",
   "version": "3.6.13",
   "mimetype": "text/x-python",
   "codemirror_mode": {
    "name": "ipython",
    "version": 3
   },
   "pygments_lexer": "ipython3",
   "nbconvert_exporter": "python",
   "file_extension": ".py"
  },
  "kernelspec": {
   "name": "python3",
   "display_name": "Python 3.6.13 64-bit ('Nav': conda)"
  },
  "interpreter": {
   "hash": "21c79530f77e2f8c52708c389c0c8f968c07b0c49bc815cc27aea8a5d2e4457f"
  }
 },
 "nbformat": 4,
 "nbformat_minor": 2
}